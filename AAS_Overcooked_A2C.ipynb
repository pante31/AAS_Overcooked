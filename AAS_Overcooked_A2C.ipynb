{
  "cells": [
    {
      "cell_type": "markdown",
      "metadata": {
        "id": "S11qsP7bl8Qm"
      },
      "source": [
        "# **_Autonomous and Adaptive Systems_ - 2025**\n",
        "## **Mini-Project**:*Overcooked* - A2C implementation"
      ]
    },
    {
      "cell_type": "markdown",
      "metadata": {
        "id": "r5Fad_rzpDFx"
      },
      "source": [
        "### Imports"
      ]
    },
    {
      "cell_type": "code",
      "execution_count": 1,
      "metadata": {},
      "outputs": [
        {
          "name": "stderr",
          "output_type": "stream",
          "text": [
            "2025-06-18 10:14:01.471088: I tensorflow/core/platform/cpu_feature_guard.cc:210] This TensorFlow binary is optimized to use available CPU instructions in performance-critical operations.\n",
            "To enable the following instructions: AVX2 AVX512F AVX512_VNNI FMA, in other operations, rebuild TensorFlow with the appropriate compiler flags.\n"
          ]
        }
      ],
      "source": [
        "import numpy as np\n",
        "import tensorflow as tf\n",
        "import tensorflow_probability as tfp\n",
        "import matplotlib.pyplot as plt\n",
        "\n",
        "from tensorflow import keras\n",
        "from tqdm import tqdm\n",
        "from overcooked_ai_py.mdp.overcooked_env import OvercookedEnv, Overcooked\n",
        "from overcooked_ai_py.mdp.overcooked_mdp import OvercookedGridworld\n",
        "from overcooked_ai_py.visualization.state_visualizer import StateVisualizer\n",
        "from overcooked_ai_py.planning.planners import MediumLevelActionManager"
      ]
    },
    {
      "cell_type": "markdown",
      "metadata": {},
      "source": [
        "### Testing _Overcooked_ environment"
      ]
    },
    {
      "cell_type": "markdown",
      "metadata": {},
      "source": [
        "- `base_mdp` = An MDP grid world based off of the Overcooked game.\n",
        "- `base_env` = An environment wrapper for the OvercookedGridworld Markov Decision Process. The environment keeps track of the current state of the agent, updates it as the agent takes actions, and provides rewards to the agent.\n",
        "- `env`= Similar to gym env."
      ]
    },
    {
      "cell_type": "code",
      "execution_count": 2,
      "metadata": {
        "id": "Evn4sHxIrX4c"
      },
      "outputs": [],
      "source": [
        "base_mdp = OvercookedGridworld.from_layout_name(\"cramped_room\", old_dynamics = True) # or other layout\n",
        "base_env = OvercookedEnv.from_mdp(base_mdp, info_level=0, horizon=400)\n",
        "env = Overcooked(base_env=base_env, featurize_fn=base_env.featurize_state_mdp)"
      ]
    },
    {
      "cell_type": "markdown",
      "metadata": {},
      "source": [
        "There are different experimetnal layouts:\n",
        "- ***Cramped Room*** presents low-level coordination challenges: in this shared, confined space it is very easy for the agents to collide.\n",
        "- ***Asymmetric Advantages*** tests whether players can choose high-level strategies that play to their strengths.\n",
        "- ***Coordination Ring***, players must coordinate to travel between the bottom left and top right corners of the layout.\n",
        "- ***Forced Coordination*** removes collision coordination problems, and forces players to develop a high-level joint strategy, since neither player can serve a dish by themselves.\n",
        "- ***Counter Circuit*** involves a non-obvious coordination strategy, where onions are passed over the counter to the pot, rather than being carried around."
      ]
    },
    {
      "cell_type": "markdown",
      "metadata": {},
      "source": [
        "#### **Actions**"
      ]
    },
    {
      "cell_type": "markdown",
      "metadata": {},
      "source": [
        "The possible actions are: _up, down, left, right, noop,_ and _\"interact\"_"
      ]
    },
    {
      "cell_type": "code",
      "execution_count": 3,
      "metadata": {},
      "outputs": [
        {
          "name": "stdout",
          "output_type": "stream",
          "text": [
            "The action space has dimension: Discrete(6)\n"
          ]
        }
      ],
      "source": [
        "print('The action space has dimension: {}'.format(env.action_space))"
      ]
    },
    {
      "cell_type": "markdown",
      "metadata": {},
      "source": [
        "#### **Observations**"
      ]
    },
    {
      "cell_type": "code",
      "execution_count": 4,
      "metadata": {},
      "outputs": [
        {
          "data": {
            "text/plain": [
              "{'both_agent_obs': (array([ 0.,  0.,  0.,  1.,  0.,  0.,  0.,  0., -2.,  0.,  0.,  0., -1.,\n",
              "          2.,  0.,  0.,  0.,  0.,  1.,  2.,  0.,  0.,  1.,  1.,  0.,  0.,\n",
              "          0.,  0.,  0.,  0.,  0., -1.,  0.,  0.,  0.,  0.,  0.,  0.,  0.,\n",
              "          0.,  0.,  0.,  1.,  0.,  0.,  0.,  0.,  0.,  0.,  1.,  0.,  0.,\n",
              "          0.,  0., -1., -1.,  0.,  0.,  0.,  1.,  0.,  0.,  0.,  0.,  2.,\n",
              "          1.,  0.,  0.,  1.,  1.,  0.,  0.,  0.,  0.,  0.,  0.,  1., -2.,\n",
              "          0.,  0.,  0.,  0.,  0.,  0.,  0.,  0.,  0.,  0.,  0.,  1.,  0.,\n",
              "          1., -1.,  1.,  2.,  1.]),\n",
              "  array([ 0.,  0.,  0.,  1.,  0.,  0.,  0.,  0., -1., -1.,  0.,  0.,  0.,\n",
              "          1.,  0.,  0.,  0.,  0.,  2.,  1.,  0.,  0.,  1.,  1.,  0.,  0.,\n",
              "          0.,  0.,  0.,  0.,  1., -2.,  0.,  0.,  0.,  0.,  0.,  0.,  0.,\n",
              "          0.,  0.,  0.,  0.,  1.,  0.,  1.,  0.,  0.,  0.,  1.,  0.,  0.,\n",
              "          0.,  0., -2.,  0.,  0.,  0., -1.,  2.,  0.,  0.,  0.,  0.,  1.,\n",
              "          2.,  0.,  0.,  1.,  1.,  0.,  0.,  0.,  0.,  0.,  0.,  0., -1.,\n",
              "          0.,  0.,  0.,  0.,  0.,  0.,  0.,  0.,  0.,  0.,  1.,  0.,  0.,\n",
              "          0.,  1., -1.,  1.,  2.])),\n",
              " 'overcooked_state': <overcooked_ai_py.mdp.overcooked_mdp.OvercookedState at 0x1108de620>,\n",
              " 'other_agent_env_idx': 0}"
            ]
          },
          "execution_count": 4,
          "metadata": {},
          "output_type": "execute_result"
        }
      ],
      "source": [
        "observation = env.reset()\n",
        "action = env.action_space.sample()\n",
        "observation, reward, done, info = env.step((action, action))\n",
        "observation"
      ]
    },
    {
      "cell_type": "markdown",
      "metadata": {
        "id": "aIughLCjrUuR"
      },
      "source": [
        "### Understanding the _Overcooked_ **observations** to apply shaping"
      ]
    },
    {
      "cell_type": "markdown",
      "metadata": {},
      "source": [
        "- `[0:4]` pi_orientation: length 4 one-hot-encoding of direction currently facing\n",
        "- `[4:8]` pi_obj: length 4 one-hot-encoding of object currently being held (all 0s if no object held) (onion|soup|dish|tomato)\n",
        "- `[8:20]` pi_closest_{onion|tomato|dish|soup|serving|empty_counter}: (dx, dy) where dx = x dist to item, dy = y dist to item. (0, 0) if item is currently held\n",
        "- `[20:22]` pi_cloest_soup_n_{onions|tomatoes}: int value for number of this ingredient in closest soup ???\n",
        "- `[22:23]` pi_closest_pot_{j}_exists: {0, 1} depending on whether jth closest pot found. If 0, then all other pot features are 0. Note: can be 0 even if there are more than j pots on layout, if the pot is not reachable by player i\n",
        "- `[23:27]` pi_closest_pot_{j}_{is_empty|is_full|is_cooking|is_ready}: {0, 1} depending on boolean value for jth closest pot\n",
        "- `[27:29]` pi_closest_pot_{j}_{num_onions|num_tomatoes}: int value for number of this ingredient in jth closest pot\n",
        "- `[29:30]` pi_closest_pot_{j}_cook_time: int value for seconds remaining on soup. -1 if no soup is cooking\n",
        "- `[30:32]` pi_closest_pot_{j}: (dx, dy) to jth closest pot from player i location\n",
        "- `[32:36]` pi_wall: length 4 boolean value of whether player i has wall in each direction"
      ]
    },
    {
      "cell_type": "code",
      "execution_count": 5,
      "metadata": {},
      "outputs": [],
      "source": [
        "class OvercookedRewardShaping(Overcooked):\n",
        "    def __init__(self, *args, **kwargs):\n",
        "        super().__init__(*args, **kwargs)\n",
        "\n",
        "    def step(self, actions):\n",
        "        observation, base_reward, done, info = super().step(actions)\n",
        "        if base_reward != 0:\n",
        "            print(\"Soup delivered! Voto: {}\".format(base_reward)) # base_reward is 20 if soup is delivered\n",
        "        shaped_reward = base_reward + self._compute_shaping(observation['both_agent_obs'])\n",
        "        return observation, shaped_reward, done, info\n",
        "\n",
        "    def _compute_shaping(self, observations):\n",
        "        shaping = 0\n",
        "        for obs in observations:\n",
        "            holding_vector = obs[4:8]\n",
        "            holding_soup = obs[5:6]\n",
        "            soup_full_cooking_ready = obs[24:27]\n",
        "            soup_empty = obs[23:24]\n",
        "            soup_cooking = obs[25:26]\n",
        "            pot_onions = obs[27:28]\n",
        "            \n",
        "            # Penalty if holding an object\n",
        "            #if holding_vector.any():\n",
        "            #    shaping -= 0.05\n",
        "            # Reward if holding a soup\n",
        "            #if holding_soup.any():\n",
        "            #    shaping += 0.1\n",
        "            # Reward if soup is full/cooking/ready\n",
        "            if soup_cooking.any():\n",
        "                shaping += 0.3\n",
        "            # Reward if onion are putted into the soup\n",
        "            #if soup_empty.any():\n",
        "            # shaping += int(pot_onions)*0.01\n",
        "\n",
        "        return shaping"
      ]
    },
    {
      "cell_type": "code",
      "execution_count": 6,
      "metadata": {},
      "outputs": [],
      "source": [
        "env = OvercookedRewardShaping(base_env=base_env, featurize_fn=base_env.featurize_state_mdp)"
      ]
    },
    {
      "cell_type": "markdown",
      "metadata": {},
      "source": [
        "#### Testing a random episode"
      ]
    },
    {
      "cell_type": "code",
      "execution_count": 7,
      "metadata": {},
      "outputs": [],
      "source": [
        "for i_episode in range(1):\n",
        "    observation = env.reset()\n",
        "    \n",
        "    for t in range(100):\n",
        "        action = env.action_space.sample()\n",
        "        state = env.step((action, action))\n",
        "\n",
        "env.close()"
      ]
    },
    {
      "cell_type": "markdown",
      "metadata": {},
      "source": [
        "### **Networks**"
      ]
    },
    {
      "cell_type": "code",
      "execution_count": 8,
      "metadata": {},
      "outputs": [],
      "source": [
        "num_inputs = 96 # length of the observation array\n",
        "num_actions = 6\n",
        "num_hidden = 128"
      ]
    },
    {
      "cell_type": "markdown",
      "metadata": {},
      "source": [
        "#### _Actor_ model\n",
        "- **Actor**: This takes as input the _state of our environment_ and returns a _probability value_ for each action in its action space."
      ]
    },
    {
      "cell_type": "code",
      "execution_count": 14,
      "metadata": {},
      "outputs": [],
      "source": [
        "# Actor-Critic for Player 1\n",
        "actor = keras.models.Sequential([\n",
        "    keras.layers.Input(shape=(num_inputs,)),\n",
        "    keras.layers.Dense(num_hidden, activation='relu'),\n",
        "    keras.layers.Dense(num_hidden, activation='relu'),\n",
        "    keras.layers.Dense(num_hidden, activation='relu'),\n",
        "    keras.layers.Dense(num_actions, activation='softmax')\n",
        "])\n",
        "\n",
        "actor = keras.models.Sequential([\n",
        "    keras.layers.Input(shape=(num_inputs,)),\n",
        "    keras.layers.Dense(num_hidden//2, activation='relu'),\n",
        "    keras.layers.Dense(num_hidden//2, activation='relu'),\n",
        "    keras.layers.Dense(num_actions, activation='softmax')\n",
        "])\n",
        "\n",
        "actor_optimizer = keras.optimizers.Adam(learning_rate=1e-7)"
      ]
    },
    {
      "cell_type": "markdown",
      "metadata": {},
      "source": [
        "#### _Critic_ model\n",
        "- **Critic**: This takes as input the _state of our environment_ and returns an estimate of _total rewards_ in the future."
      ]
    },
    {
      "cell_type": "code",
      "execution_count": 15,
      "metadata": {},
      "outputs": [],
      "source": [
        "critic = keras.models.Sequential([\n",
        "    keras.layers.Input(shape=(num_inputs,)),\n",
        "    keras.layers.Dense(num_hidden, activation='relu'),\n",
        "    keras.layers.Dense(num_hidden, activation='relu'),\n",
        "    keras.layers.Dense(num_hidden//2, activation='relu'),\n",
        "    keras.layers.Dense(1)\n",
        "])\n",
        "\n",
        "critic = keras.models.Sequential([\n",
        "    keras.layers.Input(shape=(num_inputs,)),\n",
        "    keras.layers.Dense(num_hidden//2, activation='relu'),\n",
        "    keras.layers.Dense(num_hidden//4, activation='relu'),\n",
        "    keras.layers.Dense(1)\n",
        "])\n",
        "\n",
        "critic_optimizer = keras.optimizers.Adam(learning_rate=1e-7)"
      ]
    },
    {
      "cell_type": "markdown",
      "metadata": {},
      "source": [
        "### **Training**"
      ]
    },
    {
      "cell_type": "markdown",
      "metadata": {},
      "source": [
        "Sources: \n",
        "- https://medium.com/data-science-in-your-pocket/advantage-actor-critic-a2c-algorithm-in-reinforcement-learning-with-codes-and-examples-using-e810273c0c9e\n",
        "- https://www.tensorflow.org/tutorials/reinforcement_learning/actor_critic\n"
      ]
    },
    {
      "cell_type": "code",
      "execution_count": 12,
      "metadata": {},
      "outputs": [],
      "source": [
        "# Configuration parameters for the whole setup\n",
        "seed = 42\n",
        "gamma = 0.99  # Discount factor for past rewards\n",
        "eps = np.finfo(np.float32).eps.item()  # Smallest number such that 1.0 + eps != 1.0\n",
        "max_steps_per_episode = 1000\n",
        "\n",
        "mse_loss = keras.losses.MeanSquaredError()\n",
        "\n",
        "num_episodes = 1\n",
        "n_step_before_update = 5"
      ]
    },
    {
      "cell_type": "markdown",
      "metadata": {},
      "source": [
        "#### <u>Update</u>: After each **episode**"
      ]
    },
    {
      "cell_type": "code",
      "execution_count": null,
      "metadata": {},
      "outputs": [],
      "source": [
        "chef1_action_probs_history = []\n",
        "chef1_critic_value_history = []\n",
        "chef2_action_probs_history = []\n",
        "chef2_critic_value_history = []\n",
        "rewards_history = []\n",
        "\n",
        "running_reward = 0\n",
        "\n",
        "#while True:  # Run until solved\n",
        "for episode in tqdm(range(num_episodes)):\n",
        "    observation = env.reset() #observation of the starting state\n",
        "    episode_reward = 0\n",
        "    \n",
        "    with tf.GradientTape(persistent = True) as tape:\n",
        "        while True:\n",
        "\n",
        "            chef1_observation = observation['both_agent_obs'][0]\n",
        "            chef2_observation = observation['both_agent_obs'][1]\n",
        "\n",
        "            #chef1_observation = keras.ops.convert_to_tensor([chef1_observation])\n",
        "            chef1_observation = keras.ops.convert_to_tensor(chef1_observation)\n",
        "            chef1_observation = keras.ops.expand_dims(chef1_observation, 0)\n",
        "\n",
        "            chef2_observation = keras.ops.convert_to_tensor(chef2_observation)\n",
        "            chef2_observation = keras.ops.expand_dims(chef2_observation, 0)\n",
        "\n",
        "            # Predict action probabilities and estimated future rewards\n",
        "            # from environment state\n",
        "            chef1_action_probs = actor(chef1_observation)\n",
        "            chef1_critic_value = critic(chef1_observation)\n",
        "            chef1_critic_value_history.append(chef1_critic_value[0, 0])\n",
        "\n",
        "            chef2_action_probs = actor(chef2_observation)\n",
        "            chef2_critic_value = critic(chef2_observation)\n",
        "            chef2_critic_value_history.append(chef2_critic_value[0, 0])\n",
        "\n",
        "            # Sample action from action probability distribution\n",
        "            chef1_action = np.random.choice(num_actions, p=np.squeeze(chef1_action_probs))\n",
        "            chef1_action_probs_history.append(keras.ops.log(chef1_action_probs[0, chef1_action]))\n",
        "\n",
        "            chef2_action = np.random.choice(num_actions, p=np.squeeze(chef2_action_probs))\n",
        "            chef2_action_probs_history.append(keras.ops.log(chef2_action_probs[0, chef2_action]))\n",
        "\n",
        "            # Apply the sampled action in our environment\n",
        "            next_observation, reward, done, info = env.step((chef1_action, chef2_action))\n",
        "            rewards_history.append(reward)\n",
        "            episode_reward += reward\n",
        "\n",
        "            if done:\n",
        "                break\n",
        "\n",
        "        # Update running reward to check condition for solving\n",
        "        running_reward = 0.05 * episode_reward + (1 - 0.05) * running_reward\n",
        "\n",
        "        # Calculate expected value from rewards\n",
        "        # - At each timestep what was the total reward received after that timestep\n",
        "        # - Rewards in the past are discounted by multiplying them with gamma\n",
        "        # - These are the labels for our critic\n",
        "        returns = []\n",
        "        discounted_sum = 0\n",
        "\n",
        "        for r in rewards_history[::-1]:\n",
        "            discounted_sum = r + gamma * discounted_sum\n",
        "            returns.insert(0, discounted_sum)\n",
        "\n",
        "        # Normalize\n",
        "        returns = np.array(returns)\n",
        "        returns = (returns - np.mean(returns)) / (np.std(returns) + eps)\n",
        "        returns = returns.tolist()\n",
        "\n",
        "        # Calculating loss values to update the networks - PLAYER 1 #\n",
        "        chef1_history = zip(chef1_action_probs_history, chef1_critic_value_history, returns)\n",
        "        chef1_actor_losses = []\n",
        "        chef1_critic_losses = []\n",
        "\n",
        "        for log_prob, value, ret in chef1_history:\n",
        "            # At this point in history, the critic estimated that we would get a\n",
        "            # total reward = `value` in the future. We took an action with log probability\n",
        "            # of `log_prob` and ended up receiving a total reward = `ret`.\n",
        "            # The actor must be updated so that it predicts an action that leads to\n",
        "            # high rewards (compared to critic's estimate) with high probability.\n",
        "            diff = ret - value\n",
        "            chef1_actor_losses.append(-log_prob * diff)  # actor loss\n",
        "\n",
        "            # The critic must be updated so that it predicts a better estimate of\n",
        "            # the future rewards.\n",
        "            chef1_critic_losses.append(\n",
        "                mse_loss(keras.ops.expand_dims(value, 0), keras.ops.expand_dims(ret, 0))\n",
        "            )\n",
        "\n",
        "        # Calculating loss values to update the networks - PLAYER 2 #\n",
        "        chef2_history = zip(chef2_action_probs_history, chef2_critic_value_history, returns)\n",
        "        chef2_actor_losses = []\n",
        "        chef2_critic_losses = []\n",
        "\n",
        "        for log_prob, value, ret in chef2_history:\n",
        "            # At this point in history, the critic estimated that we would get a\n",
        "            # total reward = `value` in the future. We took an action with log probability\n",
        "            # of `log_prob` and ended up receiving a total reward = `ret`.\n",
        "            # The actor must be updated so that it predicts an action that leads to\n",
        "            # high rewards (compared to critic's estimate) with high probability.\n",
        "            diff = ret - value\n",
        "            chef2_actor_losses.append(-log_prob * diff)  # actor loss\n",
        "\n",
        "            # The critic must be updated so that it predicts a better estimate of\n",
        "            # the future rewards.\n",
        "            chef2_critic_losses.append(\n",
        "                mse_loss(keras.ops.expand_dims(value, 0), keras.ops.expand_dims(ret, 0))\n",
        "            )\n",
        "\n",
        "        # Summing up all the losses\n",
        "        actor_loss_value = sum(chef1_actor_losses) + sum(chef2_actor_losses)\n",
        "        critic_loss_value = sum(chef1_critic_losses) + sum(chef2_critic_losses)\n",
        "        \n",
        "    # Backpropagation for both Actor & Critic   \n",
        "    actor_grads = tape.gradient(actor_loss_value, actor.trainable_variables)\n",
        "    critic_grads = tape.gradient(critic_loss_value, critic.trainable_variables)\n",
        "    \n",
        "    actor_optimizer.apply_gradients(zip(actor_grads, actor.trainable_variables))\n",
        "    critic_optimizer.apply_gradients(zip(critic_grads, critic.trainable_variables))\n",
        "\n",
        "    # Clear the loss and reward history\n",
        "    chef1_action_probs_history.clear()\n",
        "    chef1_critic_value_history.clear()\n",
        "    chef2_action_probs_history.clear()\n",
        "    chef2_critic_value_history.clear()\n",
        "    rewards_history.clear()\n",
        "        \n",
        "    del tape # remove the reference to the tape and invoke garbage collection\n",
        "\n",
        "    # Log details\n",
        "    if (episode + 1) % 5 == 0:\n",
        "        template = \"running reward: {:.2f} at episode {}\"\n",
        "        print(template.format(running_reward, episode+1))"
      ]
    },
    {
      "cell_type": "markdown",
      "metadata": {},
      "source": [
        "50 episodes at the time (learning rate = 5e-7)\n",
        "    - UP --> 1.6-7, soup: 2\n",
        "             2-10.7, soup: 6 \n",
        "    - DOWN --> 0.5-4.5, soup: 3\n",
        "               2-4, soup: 2\n",
        "100 episodes at the time (learning rate = 5e-7)\n",
        "    - UP --> 0.5-6.6, soup: 0\n",
        "             1.5-7.6, soup: 4\n",
        "             1-7.5, soup: 1\n",
        "300 episodes at the time (learning rate = 5e-8)\n",
        "    - DOWN --> 0.5-6.5, soup: 18 \n",
        "300 episodes at the time (learning rate = 5e-9)\n",
        "    - DOWN --> 0.5-6.5, soup: 18 \n",
        "\n",
        "700 episodes - 128 net_dimensions - 1e-4 --> No learning at all\n",
        "700 episodes - 128 net_dimensions - 1e-5 --> No learning at all\n",
        "\n",
        "100 episodes - 64 net_dimensions - 1e-6 --> No learning at all\n",
        "100 episodes - 64 net_dimensions - 1e-7 --> No learning at all\n",
        "\n",
        "100 episodes - 256 net_dimensions - 1e-5 --> No learning at all, it goes to 0\n",
        "180 episodes - 256 net_dimensions - 1e-8 --> \n"
      ]
    },
    {
      "cell_type": "markdown",
      "metadata": {},
      "source": [
        "#### <u>Update</u>: After each **step**"
      ]
    },
    {
      "cell_type": "code",
      "execution_count": null,
      "metadata": {},
      "outputs": [
        {
          "name": "stderr",
          "output_type": "stream",
          "text": [
            "  1%|          | 1/100 [00:52<1:26:15, 52.28s/it]"
          ]
        },
        {
          "name": "stdout",
          "output_type": "stream",
          "text": [
            "Soup delivered! Voto: 20\n"
          ]
        },
        {
          "name": "stderr",
          "output_type": "stream",
          "text": [
            "  4%|▍         | 4/100 [03:44<1:29:13, 55.76s/it]"
          ]
        },
        {
          "name": "stdout",
          "output_type": "stream",
          "text": [
            "running reward: 1.42 at episode 4 Actor Loss: -0.25 - Critic Loss: 0.04\n",
            "Soup delivered! Voto: 20\n"
          ]
        },
        {
          "name": "stderr",
          "output_type": "stream",
          "text": [
            "  9%|▉         | 9/100 [07:53<1:15:26, 49.74s/it]"
          ]
        },
        {
          "name": "stdout",
          "output_type": "stream",
          "text": [
            "running reward: 2.94 at episode 9 Actor Loss: 0.31 - Critic Loss: 0.03\n"
          ]
        },
        {
          "name": "stderr",
          "output_type": "stream",
          "text": [
            " 14%|█▍        | 14/100 [11:47<1:07:07, 46.83s/it]"
          ]
        },
        {
          "name": "stdout",
          "output_type": "stream",
          "text": [
            "running reward: 3.33 at episode 14 Actor Loss: 0.18 - Critic Loss: 0.03\n"
          ]
        },
        {
          "name": "stderr",
          "output_type": "stream",
          "text": [
            " 19%|█▉        | 19/100 [15:39<1:03:14, 46.85s/it]"
          ]
        },
        {
          "name": "stdout",
          "output_type": "stream",
          "text": [
            "running reward: 4.15 at episode 19 Actor Loss: -0.36 - Critic Loss: 0.12\n"
          ]
        },
        {
          "name": "stderr",
          "output_type": "stream",
          "text": [
            " 24%|██▍       | 24/100 [19:24<57:21, 45.29s/it]  "
          ]
        },
        {
          "name": "stdout",
          "output_type": "stream",
          "text": [
            "running reward: 3.73 at episode 24 Actor Loss: 0.32 - Critic Loss: 0.03\n"
          ]
        },
        {
          "name": "stderr",
          "output_type": "stream",
          "text": [
            " 29%|██▉       | 29/100 [23:09<53:16, 45.02s/it]"
          ]
        },
        {
          "name": "stdout",
          "output_type": "stream",
          "text": [
            "running reward: 3.97 at episode 29 Actor Loss: 0.09 - Critic Loss: 0.04\n"
          ]
        },
        {
          "name": "stderr",
          "output_type": "stream",
          "text": [
            " 34%|███▍      | 34/100 [26:56<49:46, 45.25s/it]"
          ]
        },
        {
          "name": "stdout",
          "output_type": "stream",
          "text": [
            "running reward: 4.07 at episode 34 Actor Loss: -0.29 - Critic Loss: 0.14\n"
          ]
        },
        {
          "name": "stderr",
          "output_type": "stream",
          "text": [
            " 39%|███▉      | 39/100 [30:43<46:00, 45.25s/it]"
          ]
        },
        {
          "name": "stdout",
          "output_type": "stream",
          "text": [
            "running reward: 3.69 at episode 39 Actor Loss: -0.37 - Critic Loss: 0.05\n"
          ]
        },
        {
          "name": "stderr",
          "output_type": "stream",
          "text": [
            " 44%|████▍     | 44/100 [34:27<41:53, 44.89s/it]"
          ]
        },
        {
          "name": "stdout",
          "output_type": "stream",
          "text": [
            "running reward: 3.40 at episode 44 Actor Loss: -0.13 - Critic Loss: 0.01\n"
          ]
        },
        {
          "name": "stderr",
          "output_type": "stream",
          "text": [
            " 47%|████▋     | 47/100 [36:44<39:56, 45.21s/it]"
          ]
        },
        {
          "name": "stdout",
          "output_type": "stream",
          "text": [
            "Soup delivered! Voto: 20\n"
          ]
        },
        {
          "name": "stderr",
          "output_type": "stream",
          "text": [
            " 49%|████▉     | 49/100 [38:14<38:16, 45.03s/it]"
          ]
        },
        {
          "name": "stdout",
          "output_type": "stream",
          "text": [
            "running reward: 5.75 at episode 49 Actor Loss: -0.51 - Critic Loss: 0.09\n"
          ]
        },
        {
          "name": "stderr",
          "output_type": "stream",
          "text": [
            " 54%|█████▍    | 54/100 [42:00<34:34, 45.10s/it]"
          ]
        },
        {
          "name": "stdout",
          "output_type": "stream",
          "text": [
            "running reward: 4.96 at episode 54 Actor Loss: -0.10 - Critic Loss: 0.03\n"
          ]
        },
        {
          "name": "stderr",
          "output_type": "stream",
          "text": [
            " 59%|█████▉    | 59/100 [45:42<30:46, 45.04s/it]"
          ]
        },
        {
          "name": "stdout",
          "output_type": "stream",
          "text": [
            "running reward: 4.20 at episode 59 Actor Loss: -0.16 - Critic Loss: 0.14\n"
          ]
        },
        {
          "name": "stderr",
          "output_type": "stream",
          "text": [
            " 64%|██████▍   | 64/100 [49:21<26:24, 44.02s/it]"
          ]
        },
        {
          "name": "stdout",
          "output_type": "stream",
          "text": [
            "running reward: 4.26 at episode 64 Actor Loss: -0.22 - Critic Loss: 0.06\n"
          ]
        },
        {
          "name": "stderr",
          "output_type": "stream",
          "text": [
            " 69%|██████▉   | 69/100 [52:57<22:27, 43.46s/it]"
          ]
        },
        {
          "name": "stdout",
          "output_type": "stream",
          "text": [
            "running reward: 3.29 at episode 69 Actor Loss: 0.06 - Critic Loss: 0.03\n"
          ]
        },
        {
          "name": "stderr",
          "output_type": "stream",
          "text": [
            " 74%|███████▍  | 74/100 [56:31<18:27, 42.60s/it]"
          ]
        },
        {
          "name": "stdout",
          "output_type": "stream",
          "text": [
            "running reward: 3.53 at episode 74 Actor Loss: 0.10 - Critic Loss: 0.00\n"
          ]
        },
        {
          "name": "stderr",
          "output_type": "stream",
          "text": [
            " 79%|███████▉  | 79/100 [1:00:04<14:53, 42.52s/it]"
          ]
        },
        {
          "name": "stdout",
          "output_type": "stream",
          "text": [
            "running reward: 3.79 at episode 79 Actor Loss: -0.37 - Critic Loss: 0.05\n"
          ]
        },
        {
          "name": "stderr",
          "output_type": "stream",
          "text": [
            " 81%|████████  | 81/100 [1:01:27<13:21, 42.21s/it]"
          ]
        },
        {
          "name": "stdout",
          "output_type": "stream",
          "text": [
            "Soup delivered! Voto: 20\n"
          ]
        },
        {
          "name": "stderr",
          "output_type": "stream",
          "text": [
            " 84%|████████▍ | 84/100 [1:03:36<11:21, 42.58s/it]"
          ]
        },
        {
          "name": "stdout",
          "output_type": "stream",
          "text": [
            "running reward: 4.78 at episode 84 Actor Loss: 0.14 - Critic Loss: 0.01\n"
          ]
        },
        {
          "name": "stderr",
          "output_type": "stream",
          "text": [
            " 89%|████████▉ | 89/100 [1:07:06<07:43, 42.10s/it]"
          ]
        },
        {
          "name": "stdout",
          "output_type": "stream",
          "text": [
            "running reward: 3.70 at episode 89 Actor Loss: -0.16 - Critic Loss: 0.03\n"
          ]
        },
        {
          "name": "stderr",
          "output_type": "stream",
          "text": [
            " 94%|█████████▍| 94/100 [1:10:33<04:09, 41.65s/it]"
          ]
        },
        {
          "name": "stdout",
          "output_type": "stream",
          "text": [
            "running reward: 2.86 at episode 94 Actor Loss: 0.10 - Critic Loss: 0.00\n"
          ]
        },
        {
          "name": "stderr",
          "output_type": "stream",
          "text": [
            " 99%|█████████▉| 99/100 [1:14:01<00:41, 41.45s/it]"
          ]
        },
        {
          "name": "stdout",
          "output_type": "stream",
          "text": [
            "running reward: 2.21 at episode 99 Actor Loss: 0.06 - Critic Loss: 0.01\n"
          ]
        },
        {
          "name": "stderr",
          "output_type": "stream",
          "text": [
            "100%|██████████| 100/100 [1:14:50<00:00, 44.90s/it]\n"
          ]
        },
        {
          "data": {
            "text/plain": [
              "<function matplotlib.pyplot.show(close=None, block=None)>"
            ]
          },
          "execution_count": 65,
          "metadata": {},
          "output_type": "execute_result"
        },
        {
          "data": {
            "image/png": "[encoded data removed]",
            "text/plain": [
              "<Figure size 640x480 with 1 Axes>"
            ]
          },
          "metadata": {},
          "output_type": "display_data"
        }
      ],
      "source": [
        "running_reward = 0\n",
        "reward_histroy = []\n",
        "\n",
        "actor_optimizer = keras.optimizers.Adam(learning_rate=7e-3)\n",
        "critic_optimizer = keras.optimizers.Adam(learning_rate=7e-3)\n",
        "\n",
        "losses = {'Actor Loss': [], 'Critic Loss': []}\n",
        "\n",
        "#while True:  # Run until solved\n",
        "for episode in tqdm(range(1, num_episodes+1)):\n",
        "    observation = env.reset() #observation of the starting state\n",
        "    episode_reward = 0\n",
        "    done = False\n",
        "    \n",
        "    while not done:\n",
        "        with tf.GradientTape(persistent = True) as tape:\n",
        "\n",
        "            chef1_observation = observation['both_agent_obs'][0]\n",
        "            chef2_observation = observation['both_agent_obs'][1]\n",
        "\n",
        "            #chef1_observation = keras.ops.convert_to_tensor([chef1_observation])\n",
        "            chef1_observation = tf.convert_to_tensor(chef1_observation, dtype = tf.float32)\n",
        "            chef1_observation = keras.ops.expand_dims(chef1_observation, 0)\n",
        "\n",
        "            chef2_observation = tf.convert_to_tensor(chef2_observation, dtype = tf.float32)\n",
        "            chef2_observation = keras.ops.expand_dims(chef2_observation, 0)\n",
        "\n",
        "            # Predict action probabilities and estimated future rewards\n",
        "            # from environment state (actor & critic networks)\n",
        "            chef1_action_probs = actor(chef1_observation)\n",
        "            chef1_observation_value = critic(chef1_observation)\n",
        "\n",
        "            chef2_action_probs = actor(chef2_observation)\n",
        "            chef2_observation_value = critic(chef2_observation)\n",
        "\n",
        "            # Sample action from action probability distribution\n",
        "            chef1_action_probs_dist = tfp.distributions.Categorical(probs=chef1_action_probs)\n",
        "            chef1_action = chef1_action_probs_dist.sample()\n",
        "            \n",
        "            chef2_action_probs_dist = tfp.distributions.Categorical(probs=chef2_action_probs)\n",
        "            chef2_action = chef2_action_probs_dist.sample()\n",
        "            '''\n",
        "            chef1_action = np.random.choice(num_actions, p=np.squeeze(chef1_action_probs))\n",
        "            chef2_action = np.random.choice(num_actions, p=np.squeeze(chef2_action_probs))\n",
        "            '''\n",
        "\n",
        "            # Apply the sampled action in our environment\n",
        "            next_observation, reward, done, info = env.step((int(chef1_action), int(chef2_action)))\n",
        "            episode_reward += reward\n",
        "            observation = next_observation\n",
        "\n",
        "            # Lets convert to tensor all we need\n",
        "            chef1_next_observation = next_observation['both_agent_obs'][0]\n",
        "            chef2_next_observation = next_observation['both_agent_obs'][1]\n",
        "\n",
        "            chef1_next_observation = tf.convert_to_tensor([chef1_next_observation], dtype = tf.float32)\n",
        "            chef2_next_observation = tf.convert_to_tensor([chef2_next_observation], dtype = tf.float32)\n",
        "            reward = tf.convert_to_tensor([reward], dtype='float32')\n",
        "\n",
        "            # Predict future rewards from environment state\n",
        "            chef1_next_observation_value = critic(chef1_next_observation)\n",
        "            chef2_next_observation_value = critic(chef2_next_observation)\n",
        "\n",
        "            # To compute the loss we need to get rid of the extra dimenion\n",
        "            #chef1_observation_value = tf.squeeze(chef1_observation_value)\n",
        "            #chef2_observation_value = tf.squeeze(chef2_observation_value)\n",
        "\n",
        "            chef1_next_observation_value = tf.squeeze(chef1_next_observation_value)\n",
        "            chef2_next_observation_value = tf.squeeze(chef2_next_observation_value)\n",
        "\n",
        "            # The advantage function\n",
        "            chef1_target = reward + gamma*chef1_next_observation_value*(1-int(done))\n",
        "            chef2_target = reward + gamma*chef2_next_observation_value*(1-int(done))\n",
        "            \n",
        "            chef1_advantage = chef1_target - chef1_observation_value\n",
        "            chef2_advantage = chef2_target - chef2_observation_value\n",
        "            \n",
        "            '''\n",
        "            chef1_delta = reward + gamma*chef1_next_observation_value*(1-int(done)) - chef1_observation_value\n",
        "            chef2_delta = reward + gamma*chef2_next_observation_value*(1-int(done)) - chef2_observation_value\n",
        "            '''\n",
        "\n",
        "            # Critic loss with MSE loss\n",
        "            chef1_critic_loss = mse_loss(chef1_observation_value, chef1_target)\n",
        "            chef2_critic_loss = mse_loss(chef2_observation_value, chef2_target)\n",
        "            critic_loss = (0.5)*chef1_critic_loss + (0.5)*chef2_critic_loss \n",
        "\n",
        "            '''\n",
        "            chef2_critic_loss = 0.5*(chef2_delta**2)\n",
        "            critic_loss = (0.5)*chef1_critic_loss + (0.5)*chef2_critic_loss \n",
        "            '''\n",
        "\n",
        "            # Actor loss\n",
        "            # To compute the log probabilities\n",
        "            chef1_log_probs = chef1_action_probs_dist.log_prob(chef1_action)\n",
        "            chef2_log_probs = chef2_action_probs_dist.log_prob(chef2_action)\n",
        "\n",
        "            chef1_actor_loss = -chef1_log_probs*chef1_advantage\n",
        "            chef2_actor_loss = -chef2_log_probs*chef2_advantage\n",
        "            actor_loss = (0.5)*chef1_actor_loss + (0.5)*chef2_actor_loss\n",
        "\n",
        "        # Backpropagation for both Actor & Critic   \n",
        "        actor_grads = tape.gradient(actor_loss, actor.trainable_variables)\n",
        "        critic_grads = tape.gradient(critic_loss, critic.trainable_variables)\n",
        "        \n",
        "        actor_optimizer.apply_gradients(zip(actor_grads, actor.trainable_variables))\n",
        "        critic_optimizer.apply_gradients(zip(critic_grads, critic.trainable_variables))\n",
        "\n",
        "        del tape\n",
        "\n",
        "    # Let collect the reward of this episode\n",
        "    reward_histroy.append(episode_reward)\n",
        "    # Update running reward to check condition for solving\n",
        "    running_reward = 0.05 * episode_reward + (1 - 0.05) * running_reward\n",
        "\n",
        "    # Lets save the losses\n",
        "    losses['Actor Loss'].append(actor_loss)\n",
        "    losses['Critic Loss'].append(critic_loss)\n",
        "    \n",
        "    # Log details\n",
        "    if (episode + 1) % 5 == 0:\n",
        "        template = \"running reward: {:.2f} at episode {}\"\n",
        "        template2 = \"Actor Loss: {:.2f} - Critic Loss: {:.2f}\"\n",
        "        print(template.format(running_reward, episode), template2.format(tf.squeeze(losses['Actor Loss'][-1]), tf.squeeze(losses['Critic Loss'][-1])))\n",
        "\n",
        "# Plot the reward over the episodes\n",
        "x = [i+1 for i in range(num_episodes)]\n",
        "y = reward_histroy\n",
        "plt.plot(x,y)\n",
        "plt.show\n",
        " \n"
      ]
    },
    {
      "cell_type": "markdown",
      "metadata": {},
      "source": [
        "### Test for Visualization"
      ]
    },
    {
      "cell_type": "code",
      "execution_count": 39,
      "metadata": {},
      "outputs": [
        {
          "name": "stdout",
          "output_type": "stream",
          "text": [
            "Soup delivered: 0\n"
          ]
        }
      ],
      "source": [
        "import pygame\n",
        "\n",
        "# 1) Initialize Pygame & Visualizer\n",
        "pygame.init()\n",
        "visualizer = StateVisualizer()\n",
        "\n",
        "# 2) Grab your grid and do one dummy render to get a surface\n",
        "grid = base_env.mdp.terrain_mtx\n",
        "_ = env.reset()\n",
        "surf = visualizer.render_state(base_env.state, grid=grid)\n",
        "\n",
        "# 3) Use that surface’s size for your window\n",
        "win_w, win_h = surf.get_size()\n",
        "screen = pygame.display.set_mode((win_w, win_h), pygame.RESIZABLE)\n",
        "clock  = pygame.time.Clock()\n",
        "\n",
        "# 4) Main loop: render each frame & blit into the same window\n",
        "running = True\n",
        "observation = env.reset() #observation of the starting state\n",
        "soup_delivered = 0\n",
        "\n",
        "while running:\n",
        "    for ev in pygame.event.get():\n",
        "        if ev.type == pygame.QUIT:\n",
        "            running = False\n",
        "    \n",
        "    # observation of the environment\n",
        "    chef1_observation = observation['both_agent_obs'][0]\n",
        "    chef2_observation = observation['both_agent_obs'][1]\n",
        "\n",
        "    chef1_observation = keras.ops.convert_to_tensor(chef1_observation)\n",
        "    chef1_observation = keras.ops.expand_dims(chef1_observation, 0)\n",
        "\n",
        "    chef2_observation = keras.ops.convert_to_tensor(chef2_observation)\n",
        "    chef2_observation = keras.ops.expand_dims(chef2_observation, 0)\n",
        "    \n",
        "    # step the environment\n",
        "    chef1_action_probs = actor(chef1_observation)\n",
        "    chef1_action = np.random.choice(num_actions, p=np.squeeze(chef1_action_probs))\n",
        "    \n",
        "    chef2_action_probs = actor(chef2_observation)\n",
        "    chef2_action = np.random.choice(num_actions, p=np.squeeze(chef2_action_probs))\n",
        "\n",
        "    # try to step; if episode is over, catch and reset\n",
        "    try:\n",
        "        # Overcooked wrapper returns (obs_p0, obs_p1, reward, done, info)\n",
        "        observation, reward, done, info = env.step((chef1_action, chef2_action))\n",
        "        if reward > 19:\n",
        "            soup_delivered += 1\n",
        "    except AssertionError:\n",
        "        # base_env.is_done() was True → reset and continue\n",
        "        env.reset()\n",
        "        break\n",
        "\n",
        "    # render the new state\n",
        "    surf = visualizer.render_state(base_env.state, grid=grid)\n",
        "\n",
        "    # draw it\n",
        "    screen.blit(surf, (0, 0))\n",
        "    pygame.display.flip()\n",
        "\n",
        "    clock.tick(15)   # cap at 30 FPS\n",
        "\n",
        "pygame.quit()\n",
        "\n",
        "print(f\"Soup delivered: {soup_delivered}\")\n"
      ]
    }
  ],
  "metadata": {
    "colab": {
      "provenance": []
    },
    "kernelspec": {
      "display_name": "aas_overcooked",
      "language": "python",
      "name": "python3"
    },
    "language_info": {
      "codemirror_mode": {
        "name": "ipython",
        "version": 3
      },
      "file_extension": ".py",
      "mimetype": "text/x-python",
      "name": "python",
      "nbconvert_exporter": "python",
      "pygments_lexer": "ipython3",
      "version": "3.10.16"
    }
  },
  "nbformat": 4,
  "nbformat_minor": 0
}
