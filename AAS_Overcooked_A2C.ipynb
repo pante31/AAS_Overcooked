{
  "cells": [
    {
      "cell_type": "markdown",
      "metadata": {
        "id": "S11qsP7bl8Qm"
      },
      "source": [
        "# **_Autonomous and Adaptive Systems_ - 2025**\n",
        "## **Mini-Project**:*Overcooked* - A2C implementation"
      ]
    },
    {
      "cell_type": "markdown",
      "metadata": {
        "id": "r5Fad_rzpDFx"
      },
      "source": [
        "### Imports"
      ]
    },
    {
      "cell_type": "code",
      "execution_count": 1,
      "metadata": {},
      "outputs": [
        {
          "name": "stderr",
          "output_type": "stream",
          "text": [
            "2025-06-21 17:51:41.109883: I tensorflow/core/platform/cpu_feature_guard.cc:210] This TensorFlow binary is optimized to use available CPU instructions in performance-critical operations.\n",
            "To enable the following instructions: AVX2 AVX512F AVX512_VNNI FMA, in other operations, rebuild TensorFlow with the appropriate compiler flags.\n"
          ]
        }
      ],
      "source": [
        "import numpy as np\n",
        "import tensorflow as tf\n",
        "import tensorflow_probability as tfp\n",
        "import matplotlib.pyplot as plt\n",
        "\n",
        "from tensorflow import keras\n",
        "from tqdm import tqdm\n",
        "from overcooked_ai_py.mdp.overcooked_env import OvercookedEnv, Overcooked\n",
        "from overcooked_ai_py.mdp.overcooked_mdp import OvercookedGridworld\n",
        "from overcooked_ai_py.visualization.state_visualizer import StateVisualizer\n",
        "from overcooked_ai_py.planning.planners import MediumLevelActionManager"
      ]
    },
    {
      "cell_type": "markdown",
      "metadata": {},
      "source": [
        "### Testing _Overcooked_ environment"
      ]
    },
    {
      "cell_type": "markdown",
      "metadata": {},
      "source": [
        "- `base_mdp` = An MDP grid world based off of the Overcooked game.\n",
        "- `base_env` = An environment wrapper for the OvercookedGridworld Markov Decision Process. The environment keeps track of the current state of the agent, updates it as the agent takes actions, and provides rewards to the agent.\n",
        "- `env`= Similar to gym env."
      ]
    },
    {
      "cell_type": "code",
      "execution_count": 2,
      "metadata": {
        "id": "Evn4sHxIrX4c"
      },
      "outputs": [],
      "source": [
        "base_mdp = OvercookedGridworld.from_layout_name(\"cramped_room\", old_dynamics = True) # or other layout\n",
        "base_env = OvercookedEnv.from_mdp(base_mdp, info_level=0, horizon=400)\n",
        "env = Overcooked(base_env=base_env, featurize_fn=base_env.featurize_state_mdp)"
      ]
    },
    {
      "cell_type": "markdown",
      "metadata": {},
      "source": [
        "There are different experimetnal layouts:\n",
        "- ***Cramped Room*** presents low-level coordination challenges: in this shared, confined space it is very easy for the agents to collide.\n",
        "- ***Asymmetric Advantages*** tests whether players can choose high-level strategies that play to their strengths.\n",
        "- ***Coordination Ring***, players must coordinate to travel between the bottom left and top right corners of the layout.\n",
        "- ***Forced Coordination*** removes collision coordination problems, and forces players to develop a high-level joint strategy, since neither player can serve a dish by themselves.\n",
        "- ***Counter Circuit*** involves a non-obvious coordination strategy, where onions are passed over the counter to the pot, rather than being carried around."
      ]
    },
    {
      "cell_type": "markdown",
      "metadata": {},
      "source": [
        "#### **Actions**"
      ]
    },
    {
      "cell_type": "markdown",
      "metadata": {},
      "source": [
        "The possible actions are: _up, down, left, right, noop,_ and _\"interact\"_"
      ]
    },
    {
      "cell_type": "code",
      "execution_count": 3,
      "metadata": {},
      "outputs": [
        {
          "name": "stdout",
          "output_type": "stream",
          "text": [
            "The action space has dimension: Discrete(6)\n"
          ]
        }
      ],
      "source": [
        "print('The action space has dimension: {}'.format(env.action_space))"
      ]
    },
    {
      "cell_type": "markdown",
      "metadata": {},
      "source": [
        "#### **Observations**"
      ]
    },
    {
      "cell_type": "code",
      "execution_count": 4,
      "metadata": {},
      "outputs": [
        {
          "data": {
            "text/plain": [
              "{'both_agent_obs': (array([ 1.,  0.,  0.,  0.,  0.,  0.,  0.,  0., -1., -1.,  0.,  0.,  0.,\n",
              "          1.,  0.,  0.,  0.,  0.,  2.,  1.,  0.,  0.,  1.,  1.,  0.,  0.,\n",
              "          0.,  0.,  0.,  0.,  1., -2.,  0.,  0.,  0.,  0.,  0.,  0.,  0.,\n",
              "          0.,  0.,  0.,  0.,  1.,  0.,  1.,  1.,  0.,  0.,  0.,  0.,  0.,\n",
              "          0.,  0.,  1.,  0.,  0.,  0., -2.,  2.,  0.,  0.,  0.,  0.,  0.,\n",
              "          2.,  0.,  0.,  1.,  1.,  0.,  0.,  0.,  0.,  0.,  0., -1., -1.,\n",
              "          0.,  0.,  0.,  0.,  0.,  0.,  0.,  0.,  0.,  0.,  1.,  0.,  1.,\n",
              "          0.,  2., -1.,  1.,  2.]),\n",
              "  array([ 1.,  0.,  0.,  0.,  0.,  0.,  0.,  0.,  1.,  0.,  0.,  0., -2.,\n",
              "          2.,  0.,  0.,  0.,  0.,  0.,  2.,  0.,  0.,  1.,  1.,  0.,  0.,\n",
              "          0.,  0.,  0.,  0., -1., -1.,  0.,  0.,  0.,  0.,  0.,  0.,  0.,\n",
              "          0.,  0.,  0.,  1.,  0.,  1.,  0.,  1.,  0.,  0.,  0.,  0.,  0.,\n",
              "          0.,  0., -1., -1.,  0.,  0.,  0.,  1.,  0.,  0.,  0.,  0.,  2.,\n",
              "          1.,  0.,  0.,  1.,  1.,  0.,  0.,  0.,  0.,  0.,  0.,  1., -2.,\n",
              "          0.,  0.,  0.,  0.,  0.,  0.,  0.,  0.,  0.,  0.,  0.,  1.,  0.,\n",
              "          1., -2.,  1.,  3.,  1.])),\n",
              " 'overcooked_state': <overcooked_ai_py.mdp.overcooked_mdp.OvercookedState at 0x1080620b0>,\n",
              " 'other_agent_env_idx': 1}"
            ]
          },
          "execution_count": 4,
          "metadata": {},
          "output_type": "execute_result"
        }
      ],
      "source": [
        "observation = env.reset()\n",
        "action = env.action_space.sample()\n",
        "observation, reward, done, info = env.step((action, action))\n",
        "observation"
      ]
    },
    {
      "cell_type": "markdown",
      "metadata": {
        "id": "aIughLCjrUuR"
      },
      "source": [
        "### Understanding the _Overcooked_ **observations** to apply shaping"
      ]
    },
    {
      "cell_type": "markdown",
      "metadata": {},
      "source": [
        "- `[0:4]` pi_orientation: length 4 one-hot-encoding of direction currently facing\n",
        "- `[4:8]` pi_obj: length 4 one-hot-encoding of object currently being held (all 0s if no object held) (onion|soup|dish|tomato)\n",
        "- `[8:20]` pi_closest_{onion|tomato|dish|soup|serving|empty_counter}: (dx, dy) where dx = x dist to item, dy = y dist to item. (0, 0) if item is currently held\n",
        "- `[20:22]` pi_cloest_soup_n_{onions|tomatoes}: int value for number of this ingredient in closest soup ???\n",
        "- `[22:23]` pi_closest_pot_{j}_exists: {0, 1} depending on whether jth closest pot found. If 0, then all other pot features are 0. Note: can be 0 even if there are more than j pots on layout, if the pot is not reachable by player i\n",
        "- `[23:27]` pi_closest_pot_{j}_{is_empty|is_full|is_cooking|is_ready}: {0, 1} depending on boolean value for jth closest pot\n",
        "- `[27:29]` pi_closest_pot_{j}_{num_onions|num_tomatoes}: int value for number of this ingredient in jth closest pot\n",
        "- `[29:30]` pi_closest_pot_{j}_cook_time: int value for seconds remaining on soup. -1 if no soup is cooking\n",
        "- `[30:32]` pi_closest_pot_{j}: (dx, dy) to jth closest pot from player i location\n",
        "- `[32:36]` pi_wall: length 4 boolean value of whether player i has wall in each direction"
      ]
    },
    {
      "cell_type": "code",
      "execution_count": 5,
      "metadata": {},
      "outputs": [],
      "source": [
        "class OvercookedRewardShaping(Overcooked):\n",
        "    def __init__(self, *args, **kwargs):\n",
        "        super().__init__(*args, **kwargs)\n",
        "\n",
        "    def step(self, actions):\n",
        "        observation, base_reward, done, info = super().step(actions)\n",
        "        if base_reward != 0:\n",
        "            print(\"Soup delivered! Voto: {}\".format(base_reward)) # base_reward is 20 if soup is delivered\n",
        "        shaped_reward = base_reward + self._compute_shaping(observation['both_agent_obs'])\n",
        "        return observation, shaped_reward, done, info\n",
        "\n",
        "    def _compute_shaping(self, observations):\n",
        "        shaping = 0\n",
        "        for obs in observations:\n",
        "            holding_vector = obs[4:8]\n",
        "            holding_soup = obs[5:6]\n",
        "            soup_full_cooking_ready = obs[24:27]\n",
        "            soup_empty = obs[23:24]\n",
        "            soup_cooking = obs[25:26]\n",
        "            pot_onions = obs[27:28]\n",
        "            \n",
        "            # Penalty if holding an object\n",
        "            #if holding_vector.any():\n",
        "            #    shaping -= 0.05\n",
        "            # Reward if holding a soup\n",
        "            #if holding_soup.any():\n",
        "            #    shaping += 0.1\n",
        "            # Reward if soup is full/cooking/ready\n",
        "            if soup_cooking.any():\n",
        "                shaping += 0.3\n",
        "            # Reward if onion are putted into the soup\n",
        "            #if soup_empty.any():\n",
        "            # shaping += int(pot_onions)*0.01\n",
        "\n",
        "        return shaping"
      ]
    },
    {
      "cell_type": "code",
      "execution_count": 6,
      "metadata": {},
      "outputs": [],
      "source": [
        "env = OvercookedRewardShaping(base_env=base_env, featurize_fn=base_env.featurize_state_mdp)"
      ]
    },
    {
      "cell_type": "markdown",
      "metadata": {},
      "source": [
        "#### Testing a random episode"
      ]
    },
    {
      "cell_type": "code",
      "execution_count": 7,
      "metadata": {},
      "outputs": [],
      "source": [
        "for i_episode in range(1):\n",
        "    observation = env.reset()\n",
        "    \n",
        "    for t in range(100):\n",
        "        action = env.action_space.sample()\n",
        "        state = env.step((action, action))\n",
        "\n",
        "env.close()"
      ]
    },
    {
      "cell_type": "markdown",
      "metadata": {},
      "source": [
        "### **Networks**"
      ]
    },
    {
      "cell_type": "code",
      "execution_count": 8,
      "metadata": {},
      "outputs": [],
      "source": [
        "num_inputs = 96 # length of the observation array\n",
        "num_actions = 6\n",
        "num_hidden = 128"
      ]
    },
    {
      "cell_type": "markdown",
      "metadata": {},
      "source": [
        "#### _Actor_ model\n",
        "- **Actor**: This takes as input the _state of our environment_ and returns a _probability value_ for each action in its action space."
      ]
    },
    {
      "cell_type": "code",
      "execution_count": 9,
      "metadata": {},
      "outputs": [],
      "source": [
        "# Actor-Critic for Player 1\n",
        "actor = keras.models.Sequential([\n",
        "    keras.layers.Input(shape=(num_inputs,)),\n",
        "    keras.layers.Dense(num_hidden, activation='relu'),\n",
        "    keras.layers.Dense(num_hidden, activation='relu'),\n",
        "    keras.layers.Dense(num_hidden, activation='relu'),\n",
        "    keras.layers.Dense(num_actions, activation='softmax')\n",
        "])\n",
        "\n",
        "actor = keras.models.Sequential([\n",
        "    keras.layers.Input(shape=(num_inputs,)),\n",
        "    keras.layers.Dense(num_hidden//2, activation='relu'),\n",
        "    keras.layers.Dense(num_hidden//2, activation='relu'),\n",
        "    keras.layers.Dense(num_actions, activation='softmax')\n",
        "])\n",
        "\n",
        "actor_optimizer = keras.optimizers.Adam(learning_rate=1e-7)"
      ]
    },
    {
      "cell_type": "markdown",
      "metadata": {},
      "source": [
        "#### _Critic_ model\n",
        "- **Critic**: This takes as input the _state of our environment_ and returns an estimate of _total rewards_ in the future."
      ]
    },
    {
      "cell_type": "code",
      "execution_count": 10,
      "metadata": {},
      "outputs": [],
      "source": [
        "critic = keras.models.Sequential([\n",
        "    keras.layers.Input(shape=(num_inputs,)),\n",
        "    keras.layers.Dense(num_hidden, activation='relu'),\n",
        "    keras.layers.Dense(num_hidden, activation='relu'),\n",
        "    keras.layers.Dense(num_hidden//2, activation='relu'),\n",
        "    keras.layers.Dense(1)\n",
        "])\n",
        "\n",
        "critic = keras.models.Sequential([\n",
        "    keras.layers.Input(shape=(num_inputs,)),\n",
        "    keras.layers.Dense(num_hidden//2, activation='relu'),\n",
        "    keras.layers.Dense(num_hidden//4, activation='relu'),\n",
        "    keras.layers.Dense(1)\n",
        "])\n",
        "\n",
        "critic_optimizer = keras.optimizers.Adam(learning_rate=1e-7)"
      ]
    },
    {
      "cell_type": "markdown",
      "metadata": {},
      "source": [
        "### **Training**"
      ]
    },
    {
      "cell_type": "code",
      "execution_count": null,
      "metadata": {},
      "outputs": [],
      "source": [
        "seed = 42\n",
        "gamma = 0.99  # discount factor for past rewards\n",
        "running_reward = 0\n",
        "\n",
        "mse_loss = keras.losses.MeanSquaredError()\n",
        "actor_optimizer = keras.optimizers.Adam(learning_rate=1e-4)\n",
        "critic_optimizer = keras.optimizers.Adam(learning_rate=1e-4)"
      ]
    },
    {
      "cell_type": "markdown",
      "metadata": {},
      "source": [
        "#### <u>Update</u>: After each **step**\n",
        "Implementing the ***One-step Actor-Critic Method*** seen during lecture."
      ]
    },
    {
      "cell_type": "code",
      "execution_count": null,
      "metadata": {},
      "outputs": [
        {
          "name": "stderr",
          "output_type": "stream",
          "text": [
            " 40%|████      | 4/10 [02:58<04:23, 43.86s/it]"
          ]
        },
        {
          "name": "stdout",
          "output_type": "stream",
          "text": [
            "running reward: 1.06 at episode 4 Last actor Loss: -0.30 - Last critic Loss: 0.03\n"
          ]
        },
        {
          "name": "stderr",
          "output_type": "stream",
          "text": [
            " 90%|█████████ | 9/10 [06:27<00:41, 41.25s/it]"
          ]
        },
        {
          "name": "stdout",
          "output_type": "stream",
          "text": [
            "running reward: 1.85 at episode 9 Last actor Loss: -0.18 - Last critic Loss: 0.03\n"
          ]
        },
        {
          "name": "stderr",
          "output_type": "stream",
          "text": [
            "100%|██████████| 10/10 [07:05<00:00, 42.53s/it]\n"
          ]
        },
        {
          "data": {
            "text/plain": [
              "<function matplotlib.pyplot.show(close=None, block=None)>"
            ]
          },
          "execution_count": 39,
          "metadata": {},
          "output_type": "execute_result"
        },
        {
          "data": {
            "image/png": "[encoded data removed]",
            "text/plain": [
              "<Figure size 640x480 with 1 Axes>"
            ]
          },
          "metadata": {},
          "output_type": "display_data"
        }
      ],
      "source": [
        "num_episodes = 10\n",
        "\n",
        "reward_histroy = []\n",
        "losses = {'Actor Loss': [], 'Critic Loss': []}\n",
        "\n",
        "for episode in tqdm(range(1, num_episodes+1)):\n",
        "    \n",
        "    # State initialization, this is the first state of the episode\n",
        "    observation = env.reset() \n",
        "    episode_reward = 0\n",
        "    done = False\n",
        "    \n",
        "    while not done:\n",
        "        with tf.GradientTape(persistent = True) as tape:\n",
        "\n",
        "            chef1_observation = observation['both_agent_obs'][0]\n",
        "            chef2_observation = observation['both_agent_obs'][1]\n",
        "\n",
        "            chef1_observation = tf.convert_to_tensor(chef1_observation, dtype = tf.float32)\n",
        "            chef1_observation = keras.ops.expand_dims(chef1_observation, 0)\n",
        "\n",
        "            chef2_observation = tf.convert_to_tensor(chef2_observation, dtype = tf.float32)\n",
        "            chef2_observation = keras.ops.expand_dims(chef2_observation, 0)\n",
        "\n",
        "            # Need to select an action A following our policy (given the state S)\n",
        "            ## Predict the action probabilities\n",
        "            chef1_action_probs = actor(chef1_observation)\n",
        "            chef2_action_probs = actor(chef2_observation)\n",
        "\n",
        "            ## Sample action given the action probability distribution\n",
        "            chef1_action = np.random.choice(num_actions, p=np.squeeze(chef1_action_probs))\n",
        "            chef2_action = np.random.choice(num_actions, p=np.squeeze(chef2_action_probs))\n",
        "            \n",
        "            # Apply the sampled action A in our environment, an observe new state S' and reward R\n",
        "            next_observation, reward, done, info = env.step((int(chef1_action), int(chef2_action)))\n",
        "            episode_reward += reward\n",
        "            observation = next_observation\n",
        "          \n",
        "            # Lets convert to tensor all we need\n",
        "            chef1_next_observation = next_observation['both_agent_obs'][0]\n",
        "            chef2_next_observation = next_observation['both_agent_obs'][1]\n",
        "\n",
        "            chef1_next_observation = tf.convert_to_tensor(chef1_next_observation, dtype = tf.float32)\n",
        "            chef1_next_observation = keras.ops.expand_dims(chef1_next_observation, 0)\n",
        "\n",
        "            chef2_next_observation = tf.convert_to_tensor(chef2_next_observation, dtype = tf.float32)\n",
        "            chef2_next_observation = keras.ops.expand_dims(chef2_next_observation, 0)\n",
        "\n",
        "            reward = tf.convert_to_tensor(reward, dtype='float32')\n",
        "\n",
        "            # Compute losses\n",
        "            ## Computing the advantage function\n",
        "            ### Predict future rewards from present and future state \n",
        "            chef1_observation_value = critic(chef1_observation)\n",
        "            chef2_observation_value = critic(chef2_observation)\n",
        "            chef1_next_observation_value = critic(chef1_next_observation)\n",
        "            chef2_next_observation_value = critic(chef2_next_observation)\n",
        "            \n",
        "            ### To compute the loss we need to get rid of the extra dimenion\n",
        "            chef1_observation_value = tf.squeeze(chef1_observation_value)\n",
        "            chef2_observation_value = tf.squeeze(chef2_observation_value)\n",
        "            chef1_next_observation_value = tf.squeeze(chef1_next_observation_value)\n",
        "            chef2_next_observation_value = tf.squeeze(chef2_next_observation_value)\n",
        "\n",
        "            ### Target value\n",
        "            chef1_target = reward + gamma*chef1_next_observation_value*(1-int(done))\n",
        "            chef2_target = reward + gamma*chef2_next_observation_value*(1-int(done))\n",
        "            \n",
        "            ### Advantage function\n",
        "            chef1_advantage = chef1_target - chef1_observation_value\n",
        "            chef2_advantage = chef2_target - chef2_observation_value\n",
        "            \n",
        "            ## Actor loss\n",
        "            ### Compute the log probabilities of the action\n",
        "            chef1_log_prob = np.log(np.squeeze(chef1_action_probs)[chef1_action])\n",
        "            chef2_log_prob = np.log(np.squeeze(chef2_action_probs)[chef2_action])\n",
        "\n",
        "            ### Compute the loss\n",
        "            chef1_actor_loss = -chef1_log_prob*chef1_advantage\n",
        "            chef2_actor_loss = -chef2_log_prob*chef2_advantage\n",
        "            actor_loss = (0.5)*chef1_actor_loss + (0.5)*chef2_actor_loss\n",
        "            losses['Actor Loss'].append(actor_loss)\n",
        "    \n",
        "            ## Critic loss with MSE loss (==chef_advantage**2)\n",
        "            chef1_critic_loss = mse_loss([chef1_observation_value], [chef1_target])\n",
        "            chef2_critic_loss = mse_loss([chef2_observation_value], [chef2_target])\n",
        "            critic_loss = (0.5)*chef1_critic_loss + (0.5)*chef2_critic_loss \n",
        "            losses['Critic Loss'].append(critic_loss)\n",
        "\n",
        "        # Backpropagation for both Actor & Critic   \n",
        "        actor_grads = tape.gradient(actor_loss, actor.trainable_variables)\n",
        "        critic_grads = tape.gradient(critic_loss, critic.trainable_variables)\n",
        "        \n",
        "        actor_optimizer.apply_gradients(zip(critic_grads, critic.trainable_variables))\n",
        "        critic_optimizer.apply_gradients(zip(critic_grads, critic.trainable_variables))\n",
        "        \n",
        "        del tape\n",
        "\n",
        "    # Let collect the reward of this episode\n",
        "    reward_histroy.append(episode_reward)\n",
        "    # Update running reward to check condition for solving\n",
        "    running_reward = 0.05 * episode_reward + (1 - 0.05) * running_reward\n",
        "    \n",
        "    # Log details\n",
        "    if (episode) % 5 == 0:\n",
        "        template = \"running reward: {:.2f} at episode {}\"\n",
        "        template2 = \"Last actor Loss: {:.2f} - Last critic Loss: {:.2f}\"\n",
        "        print(template.format(running_reward, episode), template2.format(tf.squeeze(losses['Actor Loss'][-1]), tf.squeeze(losses['Critic Loss'][-1])))\n",
        "\n",
        "# Plot the reward over the episodes\n",
        "x = [i+1 for i in range(num_episodes)]\n",
        "y = reward_histroy\n",
        "plt.plot(x,y)\n",
        "plt.show\n"
      ]
    },
    {
      "cell_type": "markdown",
      "metadata": {},
      "source": [
        "#### <u>Update</u>: After each **n-step**"
      ]
    },
    {
      "cell_type": "markdown",
      "metadata": {},
      "source": [
        "Sources: \n",
        "- https://medium.com/data-science-in-your-pocket/advantage-actor-critic-a2c-algorithm-in-reinforcement-learning-with-codes-and-examples-using-e810273c0c9e\n",
        "- https://www.tensorflow.org/tutorials/reinforcement_learning/actor_critic\n"
      ]
    },
    {
      "cell_type": "code",
      "execution_count": null,
      "metadata": {},
      "outputs": [],
      "source": [
        "num_episodes = 10\n",
        "step_before_update = 128\n",
        "\n",
        "reward_histroy = []\n",
        "losses = {'Actor Loss': [], 'Critic Loss': []}\n",
        "\n",
        "# Here we store all the values we need to update\n",
        "replay_buffer = {\n",
        "    'chef1_observations': [],\n",
        "    'chef2_observations': [],\n",
        "    'chef1_actions': [],\n",
        "    'chef2_actions': [],\n",
        "    'rewards': [],\n",
        "    'chef1_next_observation_values': [],\n",
        "    'chef2_next_observation_values': [],\n",
        "    'dones': []\n",
        "}"
      ]
    },
    {
      "cell_type": "code",
      "execution_count": 47,
      "metadata": {},
      "outputs": [],
      "source": [
        "def update_networks(replay_buffer, actor, critic, actor_optimizer, critic_optimizer):\n",
        "    chef1_observations = tf.stack(replay_buffer['chef1_observations'])\n",
        "    chef2_observations = tf.stack(replay_buffer['chef2_observations'])\n",
        "    chef1_actions = replay_buffer['chef1_actions']\n",
        "    chef2_actions = replay_buffer['chef2_actions']\n",
        "    rewards = replay_buffer['rewards']\n",
        "    chef1_next_observation_values = replay_buffer['chef1_next_observation_values']\n",
        "    chef2_next_observation_values = replay_buffer['chef2_next_observation_values']\n",
        "    dones = replay_buffer['dones']\n",
        "\n",
        "    # Compute the returns for each of the n-step\n",
        "    chef1_returns = []\n",
        "    chef2_returns = []\n",
        "\n",
        "    for i in range(len(rewards)):\n",
        "        n_step_return = 0\n",
        "        for j in range(min(step_before_update, len(rewards) - i)):\n",
        "            if dones[i + j]:\n",
        "                n_step_return += (gamma ** j) * rewards[i + j]\n",
        "                break\n",
        "            n_step_return += (gamma ** j) * rewards[i + j]\n",
        "        \n",
        "        # Add discounted next value if episode didn't end\n",
        "        if i + step_before_update < len(rewards) and not any(dones[i:i+step_before_update]):\n",
        "            chef1_observation_value = critic(chef1_observation[i+step_before_update])\n",
        "            chef1_observation_value = tf.squeeze(chef1_observation_value)\n",
        "            n_step_return += (gamma ** step_before_update) * chef1_observation_value\n",
        "        chef1_returns.append(n_step_return)\n",
        "    \n",
        "    for i in range(len(rewards)):\n",
        "        n_step_return = 0\n",
        "        for j in range(min(step_before_update, len(rewards) - i)):\n",
        "            if dones[i + j]:\n",
        "                n_step_return += (gamma ** j) * rewards[i + j]\n",
        "                break\n",
        "            n_step_return += (gamma ** j) * rewards[i + j]\n",
        "        \n",
        "        # Add discounted next value if episode didn't end\n",
        "        if i + step_before_update < len(rewards) and not any(dones[i:i+step_before_update]):\n",
        "            chef1_observation_value = critic(chef1_observation[i+step_before_update])\n",
        "            chef1_observation_value = tf.squeeze(chef2_observation_value)\n",
        "            n_step_return += (gamma ** step_before_update) * chef2_observation_value\n",
        "        chef2_returns.append(n_step_return)\n",
        "    \n",
        "    chef1_returns = tf.convert_to_tensor(chef1_returns, dtype=tf.float32)\n",
        "    chef2_returns = tf.convert_to_tensor(chef2_returns, dtype=tf.float32)\n",
        "\n",
        "    chef1_advantages = chef1_returns - tf.squeeze(chef1_next_observation_values)\n",
        "    chef2_advantages = chef2_returns - tf.squeeze(chef2_next_observation_values)\n",
        "\n",
        "\n",
        "    with tf.GradientTape(persistent = True) as tape:\n",
        "        # Forward pass\n",
        "        chef1_action_probs = actor(chef1_observations)\n",
        "        chef2_action_probs = actor(chef2_observations)\n",
        "        chef1_predicted_values = critic(chef1_observations)\n",
        "        chef2_predicted_values = critic(chef2_observations)\n",
        "        \n",
        "        # Actor loss\n",
        "        chef1_action_dist = tfp.distributions.Categorical(probs=chef1_action_probs)\n",
        "        chef2_action_dist = tfp.distributions.Categorical(probs=chef2_action_probs)\n",
        "        \n",
        "        chef1_log_probs = chef1_action_dist.log_prob(chef1_actions)\n",
        "        chef2_log_probs = chef2_action_dist.log_prob(chef2_actions)\n",
        "        \n",
        "        # Policy gradient loss\n",
        "        chef1_actor_loss = -tf.reduce_mean(chef1_log_probs * chef1_advantages)\n",
        "        chef2_actor_loss = -tf.reduce_mean(chef2_log_probs * chef2_advantages)\n",
        "        \n",
        "        # Add entropy bonus to encourage exploration\n",
        "        chef1_entropy = -tf.reduce_mean(chef1_action_dist.entropy())\n",
        "        chef2_entropy = -tf.reduce_mean(chef2_action_dist.entropy())\n",
        "        entropy_bonus = 0.01  # Hyperparameter\n",
        "        \n",
        "        actor_loss = 0.5 * (chef1_actor_loss + chef2_actor_loss) + entropy_bonus * (chef1_entropy + chef2_entropy)\n",
        "        \n",
        "        # Critic loss\n",
        "        chef1_critic_loss = tf.reduce_mean(tf.square(chef1_returns - tf.squeeze(chef1_predicted_values)))\n",
        "        chef2_critic_loss = tf.reduce_mean(tf.square(chef2_returns - tf.squeeze(chef2_predicted_values)))\n",
        "        critic_loss = 0.5 * (chef1_critic_loss + chef2_critic_loss) \n",
        "    \n",
        "    # Update networks\n",
        "    actor_grads = tape.gradient(actor_loss, actor.trainable_variables)\n",
        "    critic_grads = tape.gradient(critic_loss, critic.trainable_variables)\n",
        "    \n",
        "    # Clip gradients to prevent exploding gradients\n",
        "    actor_grads = [tf.clip_by_norm(grad, 0.5) for grad in actor_grads]\n",
        "    critic_grads = [tf.clip_by_norm(grad, 0.5) for grad in critic_grads]\n",
        "    \n",
        "    actor_optimizer.apply_gradients(zip(actor_grads, actor.trainable_variables))\n",
        "    critic_optimizer.apply_gradients(zip(critic_grads, critic.trainable_variables))\n",
        "\n",
        "    del tape\n",
        "\n",
        "    return actor_loss, critic_loss"
      ]
    },
    {
      "cell_type": "code",
      "execution_count": 48,
      "metadata": {},
      "outputs": [
        {
          "name": "stderr",
          "output_type": "stream",
          "text": [
            "  1%|          | 1/100 [00:16<26:28, 16.05s/it]"
          ]
        },
        {
          "name": "stdout",
          "output_type": "stream",
          "text": [
            "Soup delivered! Voto: 20\n"
          ]
        },
        {
          "name": "stderr",
          "output_type": "stream",
          "text": [
            "  5%|▌         | 5/100 [01:30<28:17, 17.87s/it]"
          ]
        },
        {
          "name": "stdout",
          "output_type": "stream",
          "text": [
            "Episode 5: running reward: 2.92\n",
            "Actor Loss: 2.8659 - Critic Loss: 10.1453\n"
          ]
        },
        {
          "name": "stderr",
          "output_type": "stream",
          "text": [
            " 10%|█         | 10/100 [02:58<26:24, 17.61s/it]"
          ]
        },
        {
          "name": "stdout",
          "output_type": "stream",
          "text": [
            "Episode 10: running reward: 3.37\n",
            "Actor Loss: -0.1037 - Critic Loss: 0.0042\n"
          ]
        },
        {
          "name": "stderr",
          "output_type": "stream",
          "text": [
            " 15%|█▌        | 15/100 [04:25<24:39, 17.40s/it]"
          ]
        },
        {
          "name": "stdout",
          "output_type": "stream",
          "text": [
            "Episode 15: running reward: 3.59\n",
            "Actor Loss: -0.0972 - Critic Loss: 0.0025\n"
          ]
        },
        {
          "name": "stderr",
          "output_type": "stream",
          "text": [
            " 20%|██        | 20/100 [05:50<22:51, 17.14s/it]"
          ]
        },
        {
          "name": "stdout",
          "output_type": "stream",
          "text": [
            "Episode 20: running reward: 4.79\n",
            "Actor Loss: -0.1466 - Critic Loss: 0.0044\n"
          ]
        },
        {
          "name": "stderr",
          "output_type": "stream",
          "text": [
            " 25%|██▌       | 25/100 [07:14<21:00, 16.80s/it]"
          ]
        },
        {
          "name": "stdout",
          "output_type": "stream",
          "text": [
            "Episode 25: running reward: 4.19\n",
            "Actor Loss: -0.1255 - Critic Loss: 0.0034\n"
          ]
        },
        {
          "name": "stderr",
          "output_type": "stream",
          "text": [
            " 30%|███       | 30/100 [08:37<19:08, 16.41s/it]"
          ]
        },
        {
          "name": "stdout",
          "output_type": "stream",
          "text": [
            "Episode 30: running reward: 4.71\n",
            "Actor Loss: -0.1682 - Critic Loss: 0.0070\n"
          ]
        },
        {
          "name": "stderr",
          "output_type": "stream",
          "text": [
            " 31%|███       | 31/100 [08:53<18:46, 16.33s/it]"
          ]
        },
        {
          "name": "stdout",
          "output_type": "stream",
          "text": [
            "Soup delivered! Voto: 20\n"
          ]
        },
        {
          "name": "stderr",
          "output_type": "stream",
          "text": [
            " 35%|███▌      | 35/100 [09:58<17:33, 16.20s/it]"
          ]
        },
        {
          "name": "stdout",
          "output_type": "stream",
          "text": [
            "Episode 35: running reward: 6.57\n",
            "Actor Loss: -0.1694 - Critic Loss: 0.0071\n"
          ]
        },
        {
          "name": "stderr",
          "output_type": "stream",
          "text": [
            " 38%|███▊      | 38/100 [10:48<16:57, 16.40s/it]"
          ]
        },
        {
          "name": "stdout",
          "output_type": "stream",
          "text": [
            "Soup delivered! Voto: 20\n"
          ]
        },
        {
          "name": "stderr",
          "output_type": "stream",
          "text": [
            " 40%|████      | 40/100 [11:19<16:07, 16.12s/it]"
          ]
        },
        {
          "name": "stdout",
          "output_type": "stream",
          "text": [
            "Episode 40: running reward: 7.66\n",
            "Actor Loss: -0.1293 - Critic Loss: 0.0055\n"
          ]
        },
        {
          "name": "stderr",
          "output_type": "stream",
          "text": [
            " 45%|████▌     | 45/100 [12:39<14:34, 15.90s/it]"
          ]
        },
        {
          "name": "stdout",
          "output_type": "stream",
          "text": [
            "Episode 45: running reward: 5.93\n",
            "Actor Loss: -0.1208 - Critic Loss: 0.0040\n"
          ]
        },
        {
          "name": "stderr",
          "output_type": "stream",
          "text": [
            " 48%|████▊     | 48/100 [13:26<13:44, 15.85s/it]"
          ]
        },
        {
          "name": "stdout",
          "output_type": "stream",
          "text": [
            "Soup delivered! Voto: 20\n"
          ]
        },
        {
          "name": "stderr",
          "output_type": "stream",
          "text": [
            " 50%|█████     | 50/100 [13:58<13:10, 15.81s/it]"
          ]
        },
        {
          "name": "stdout",
          "output_type": "stream",
          "text": [
            "Episode 50: running reward: 7.65\n",
            "Actor Loss: -0.1116 - Critic Loss: 0.0031\n"
          ]
        },
        {
          "name": "stderr",
          "output_type": "stream",
          "text": [
            " 54%|█████▍    | 54/100 [15:01<12:08, 15.84s/it]"
          ]
        },
        {
          "name": "stdout",
          "output_type": "stream",
          "text": [
            "Soup delivered! Voto: 20\n"
          ]
        },
        {
          "name": "stderr",
          "output_type": "stream",
          "text": [
            " 55%|█████▌    | 55/100 [15:20<12:34, 16.76s/it]"
          ]
        },
        {
          "name": "stdout",
          "output_type": "stream",
          "text": [
            "Episode 55: running reward: 8.96\n",
            "Actor Loss: -0.1433 - Critic Loss: 0.0044\n",
            "Soup delivered! Voto: 20\n"
          ]
        },
        {
          "name": "stderr",
          "output_type": "stream",
          "text": [
            " 60%|██████    | 60/100 [16:49<11:12, 16.80s/it]"
          ]
        },
        {
          "name": "stdout",
          "output_type": "stream",
          "text": [
            "Episode 60: running reward: 10.79\n",
            "Actor Loss: -0.2548 - Critic Loss: 0.0273\n"
          ]
        },
        {
          "name": "stderr",
          "output_type": "stream",
          "text": [
            " 63%|██████▎   | 63/100 [17:37<09:56, 16.13s/it]"
          ]
        },
        {
          "name": "stdout",
          "output_type": "stream",
          "text": [
            "Soup delivered! Voto: 20\n"
          ]
        },
        {
          "name": "stderr",
          "output_type": "stream",
          "text": [
            " 64%|██████▍   | 64/100 [17:52<09:35, 16.00s/it]"
          ]
        },
        {
          "name": "stdout",
          "output_type": "stream",
          "text": [
            "Soup delivered! Voto: 20\n"
          ]
        },
        {
          "name": "stderr",
          "output_type": "stream",
          "text": [
            " 65%|██████▌   | 65/100 [18:08<09:17, 15.92s/it]"
          ]
        },
        {
          "name": "stdout",
          "output_type": "stream",
          "text": [
            "Episode 65: running reward: 12.41\n",
            "Actor Loss: -0.1007 - Critic Loss: 0.0023\n"
          ]
        },
        {
          "name": "stderr",
          "output_type": "stream",
          "text": [
            " 66%|██████▌   | 66/100 [18:24<09:01, 15.92s/it]"
          ]
        },
        {
          "name": "stdout",
          "output_type": "stream",
          "text": [
            "Soup delivered! Voto: 20\n",
            "Soup delivered! Voto: 20\n"
          ]
        },
        {
          "name": "stderr",
          "output_type": "stream",
          "text": [
            " 70%|███████   | 70/100 [19:30<08:14, 16.47s/it]"
          ]
        },
        {
          "name": "stdout",
          "output_type": "stream",
          "text": [
            "Episode 70: running reward: 13.83\n",
            "Actor Loss: -0.2800 - Critic Loss: 0.0206\n"
          ]
        },
        {
          "name": "stderr",
          "output_type": "stream",
          "text": [
            " 71%|███████   | 71/100 [19:46<07:52, 16.31s/it]"
          ]
        },
        {
          "name": "stdout",
          "output_type": "stream",
          "text": [
            "Soup delivered! Voto: 20\n"
          ]
        },
        {
          "name": "stderr",
          "output_type": "stream",
          "text": [
            " 74%|███████▍  | 74/100 [20:33<06:55, 15.96s/it]"
          ]
        },
        {
          "name": "stdout",
          "output_type": "stream",
          "text": [
            "Soup delivered! Voto: 20\n"
          ]
        },
        {
          "name": "stderr",
          "output_type": "stream",
          "text": [
            " 75%|███████▌  | 75/100 [20:49<06:38, 15.93s/it]"
          ]
        },
        {
          "name": "stdout",
          "output_type": "stream",
          "text": [
            "Episode 75: running reward: 14.62\n",
            "Actor Loss: -0.1426 - Critic Loss: 0.0046\n"
          ]
        },
        {
          "name": "stderr",
          "output_type": "stream",
          "text": [
            " 76%|███████▌  | 76/100 [21:08<06:38, 16.62s/it]"
          ]
        },
        {
          "name": "stdout",
          "output_type": "stream",
          "text": [
            "Soup delivered! Voto: 20\n"
          ]
        },
        {
          "name": "stderr",
          "output_type": "stream",
          "text": [
            " 77%|███████▋  | 77/100 [21:24<06:19, 16.48s/it]"
          ]
        },
        {
          "name": "stdout",
          "output_type": "stream",
          "text": [
            "Soup delivered! Voto: 20\n"
          ]
        },
        {
          "name": "stderr",
          "output_type": "stream",
          "text": [
            " 78%|███████▊  | 78/100 [21:40<05:59, 16.33s/it]"
          ]
        },
        {
          "name": "stdout",
          "output_type": "stream",
          "text": [
            "Soup delivered! Voto: 20\n"
          ]
        },
        {
          "name": "stderr",
          "output_type": "stream",
          "text": [
            " 80%|████████  | 80/100 [22:13<05:26, 16.35s/it]"
          ]
        },
        {
          "name": "stdout",
          "output_type": "stream",
          "text": [
            "Episode 80: running reward: 16.55\n",
            "Actor Loss: -0.1748 - Critic Loss: 0.0088\n"
          ]
        },
        {
          "name": "stderr",
          "output_type": "stream",
          "text": [
            " 85%|████████▌ | 85/100 [23:32<03:58, 15.92s/it]"
          ]
        },
        {
          "name": "stdout",
          "output_type": "stream",
          "text": [
            "Episode 85: running reward: 15.90\n",
            "Actor Loss: -0.2615 - Critic Loss: 0.0241\n"
          ]
        },
        {
          "name": "stderr",
          "output_type": "stream",
          "text": [
            " 90%|█████████ | 90/100 [24:50<02:36, 15.65s/it]"
          ]
        },
        {
          "name": "stdout",
          "output_type": "stream",
          "text": [
            "Episode 90: running reward: 14.88\n",
            "Actor Loss: -0.1892 - Critic Loss: 0.0120\n"
          ]
        },
        {
          "name": "stderr",
          "output_type": "stream",
          "text": [
            " 93%|█████████▎| 93/100 [25:37<01:48, 15.57s/it]"
          ]
        },
        {
          "name": "stdout",
          "output_type": "stream",
          "text": [
            "Soup delivered! Voto: 20\n"
          ]
        },
        {
          "name": "stderr",
          "output_type": "stream",
          "text": [
            " 94%|█████████▍| 94/100 [25:53<01:33, 15.62s/it]"
          ]
        },
        {
          "name": "stdout",
          "output_type": "stream",
          "text": [
            "Soup delivered! Voto: 20\n"
          ]
        },
        {
          "name": "stderr",
          "output_type": "stream",
          "text": [
            " 95%|█████████▌| 95/100 [26:10<01:20, 16.03s/it]"
          ]
        },
        {
          "name": "stdout",
          "output_type": "stream",
          "text": [
            "Episode 95: running reward: 15.20\n",
            "Actor Loss: -0.2613 - Critic Loss: 0.0204\n"
          ]
        },
        {
          "name": "stderr",
          "output_type": "stream",
          "text": [
            " 96%|█████████▌| 96/100 [26:25<01:03, 15.93s/it]"
          ]
        },
        {
          "name": "stdout",
          "output_type": "stream",
          "text": [
            "Soup delivered! Voto: 20\n"
          ]
        },
        {
          "name": "stderr",
          "output_type": "stream",
          "text": [
            "100%|██████████| 100/100 [27:28<00:00, 16.49s/it]"
          ]
        },
        {
          "name": "stdout",
          "output_type": "stream",
          "text": [
            "Episode 100: running reward: 15.20\n",
            "Actor Loss: -0.2491 - Critic Loss: 0.0201\n"
          ]
        },
        {
          "name": "stderr",
          "output_type": "stream",
          "text": [
            "\n"
          ]
        },
        {
          "data": {
            "text/plain": [
              "<function matplotlib.pyplot.show(close=None, block=None)>"
            ]
          },
          "execution_count": 48,
          "metadata": {},
          "output_type": "execute_result"
        },
        {
          "data": {
            "image/png": "[encoded data removed]",
            "text/plain": [
              "<Figure size 640x480 with 1 Axes>"
            ]
          },
          "metadata": {},
          "output_type": "display_data"
        }
      ],
      "source": [
        "for episode in tqdm(range(1, num_episodes+1)):\n",
        "    # We initialize the state S\n",
        "    observation = env.reset()\n",
        "    episode_reward = 0\n",
        "    done = False\n",
        "    timestep = 0\n",
        "    \n",
        "    while not done:\n",
        "        # Each chef has its own observation\n",
        "        chef1_observation = tf.convert_to_tensor(observation['both_agent_obs'][0], dtype = tf.float32)\n",
        "        chef2_observation = tf.convert_to_tensor(observation['both_agent_obs'][1], dtype = tf.float32)\n",
        "        chef1_observation = keras.ops.expand_dims(chef1_observation, 0)\n",
        "        chef2_observation = keras.ops.expand_dims(chef2_observation, 0)\n",
        "\n",
        "        # Action selection & State value - Using ACTOR\n",
        "        # Predict action probabilities from present state\n",
        "        chef1_action_probs = actor(chef1_observation)\n",
        "        chef2_action_probs = actor(chef2_observation)\n",
        "\n",
        "        # Sample action from action probability distribution\n",
        "        chef1_action_prob_dist = tfp.distributions.Categorical(probs=chef1_action_probs)\n",
        "        chef2_action_prob_dist = tfp.distributions.Categorical(probs=chef2_action_probs)\n",
        "        chef1_action = chef1_action_prob_dist.sample()\n",
        "        chef2_action = chef2_action_prob_dist.sample()\n",
        "\n",
        "        # Apply the sampled action in our environment\n",
        "        next_observation, reward, done, info = env.step((int(chef1_action), int(chef2_action)))\n",
        "        episode_reward += reward\n",
        "        \n",
        "        # These are the new observation, after the action just taken\n",
        "        chef1_next_observation = tf.convert_to_tensor([next_observation['both_agent_obs'][0]], dtype = tf.float32)\n",
        "        chef2_next_observation = tf.convert_to_tensor([next_observation['both_agent_obs'][1]], dtype = tf.float32)\n",
        "\n",
        "        # Predict future rewards from environment state\n",
        "        chef1_next_observation_value = critic(chef1_next_observation)\n",
        "        chef2_next_observation_value = critic(chef2_next_observation)\n",
        "        \n",
        "        # Convert reward into a Tensor before loading it inside the buffer\n",
        "        reward = tf.convert_to_tensor([reward], dtype='float32')        \n",
        "        \n",
        "        # Store experience inside the buffer \n",
        "        replay_buffer['chef1_observations'].append(tf.squeeze(chef1_observation))\n",
        "        replay_buffer['chef2_observations'].append(tf.squeeze(chef2_observation))\n",
        "        replay_buffer['chef1_actions'].append(chef1_action)\n",
        "        replay_buffer['chef2_actions'].append(chef2_action)\n",
        "        replay_buffer['rewards'].append(reward)\n",
        "        replay_buffer['chef1_next_observation_values'].append(tf.squeeze(chef1_next_observation_value))\n",
        "        replay_buffer['chef2_next_observation_values'].append(tf.squeeze(chef2_next_observation_value))\n",
        "        replay_buffer['dones'].append(done)\n",
        "\n",
        "        observation = next_observation\n",
        "        timestep += 1\n",
        "\n",
        "        # Update the networks every n-step or at the end of the episode\n",
        "        if len(replay_buffer['rewards']) >= step_before_update or done:\n",
        "            actor_loss, critic_loss = update_networks(replay_buffer, actor, critic, actor_optimizer, critic_optimizer)\n",
        "        \n",
        "            # Clear buffer\n",
        "            for key in replay_buffer:\n",
        "                replay_buffer[key] = []\n",
        "            \n",
        "            # Store losses\n",
        "            losses['Actor Loss'].append(actor_loss)\n",
        "            losses['Critic Loss'].append(critic_loss)\n",
        "\n",
        "    # Let collect the reward of this episode\n",
        "    reward_histroy.append(episode_reward)\n",
        "    # Update running reward to check condition for solving\n",
        "    running_reward = 0.05 * episode_reward + (1 - 0.05) * running_reward\n",
        "\n",
        "    # Log details\n",
        "    if episode % 5 == 0:\n",
        "        template = \"Episode {}: running reward: {:.2f}\"\n",
        "        print(template.format(episode, running_reward))\n",
        "        if losses['Actor Loss']:  # Check if we have losses to report\n",
        "            template2 = \"Actor Loss: {:.4f} - Critic Loss: {:.4f}\"\n",
        "            print(template2.format(float(losses['Actor Loss'][-1]), float(losses['Critic Loss'][-1])))\n",
        "\n",
        "# Plot the reward over the episodes\n",
        "x = [i+1 for i in range(num_episodes)]\n",
        "y = reward_histroy\n",
        "plt.plot(x,y)\n",
        "plt.show\n"
      ]
    },
    {
      "cell_type": "markdown",
      "metadata": {},
      "source": [
        "### Test for Visualization"
      ]
    },
    {
      "cell_type": "code",
      "execution_count": 19,
      "metadata": {},
      "outputs": [
        {
          "name": "stdout",
          "output_type": "stream",
          "text": [
            "Soup delivered: 0\n"
          ]
        }
      ],
      "source": [
        "import pygame\n",
        "\n",
        "# 1) Initialize Pygame & Visualizer\n",
        "pygame.init()\n",
        "visualizer = StateVisualizer()\n",
        "\n",
        "# 2) Grab your grid and do one dummy render to get a surface\n",
        "grid = base_env.mdp.terrain_mtx\n",
        "_ = env.reset()\n",
        "surf = visualizer.render_state(base_env.state, grid=grid)\n",
        "\n",
        "# 3) Use that surface’s size for your window\n",
        "win_w, win_h = surf.get_size()\n",
        "screen = pygame.display.set_mode((win_w, win_h), pygame.RESIZABLE)\n",
        "clock  = pygame.time.Clock()\n",
        "\n",
        "# 4) Main loop: render each frame & blit into the same window\n",
        "running = True\n",
        "observation = env.reset() #observation of the starting state\n",
        "soup_delivered = 0\n",
        "\n",
        "while running:\n",
        "    for ev in pygame.event.get():\n",
        "        if ev.type == pygame.QUIT:\n",
        "            running = False\n",
        "    \n",
        "    # observation of the environment\n",
        "    chef1_observation = observation['both_agent_obs'][0]\n",
        "    chef2_observation = observation['both_agent_obs'][1]\n",
        "\n",
        "    chef1_observation = keras.ops.convert_to_tensor(chef1_observation)\n",
        "    chef1_observation = keras.ops.expand_dims(chef1_observation, 0)\n",
        "\n",
        "    chef2_observation = keras.ops.convert_to_tensor(chef2_observation)\n",
        "    chef2_observation = keras.ops.expand_dims(chef2_observation, 0)\n",
        "    \n",
        "    # step the environment\n",
        "    chef1_action_probs = actor(chef1_observation)\n",
        "    chef1_action = np.random.choice(num_actions, p=np.squeeze(chef1_action_probs))\n",
        "    \n",
        "    chef2_action_probs = actor(chef2_observation)\n",
        "    chef2_action = np.random.choice(num_actions, p=np.squeeze(chef2_action_probs))\n",
        "\n",
        "    # try to step; if episode is over, catch and reset\n",
        "    try:\n",
        "        # Overcooked wrapper returns (obs_p0, obs_p1, reward, done, info)\n",
        "        observation, reward, done, info = env.step((chef1_action, chef2_action))\n",
        "        if reward > 19:\n",
        "            soup_delivered += 1\n",
        "    except AssertionError:\n",
        "        # base_env.is_done() was True → reset and continue\n",
        "        env.reset()\n",
        "        break\n",
        "\n",
        "    # render the new state\n",
        "    surf = visualizer.render_state(base_env.state, grid=grid)\n",
        "\n",
        "    # draw it\n",
        "    screen.blit(surf, (0, 0))\n",
        "    pygame.display.flip()\n",
        "\n",
        "    clock.tick(15)   # cap at 30 FPS\n",
        "\n",
        "pygame.quit()\n",
        "\n",
        "print(f\"Soup delivered: {soup_delivered}\")\n"
      ]
    }
  ],
  "metadata": {
    "colab": {
      "provenance": []
    },
    "kernelspec": {
      "display_name": "aas_overcooked",
      "language": "python",
      "name": "python3"
    },
    "language_info": {
      "codemirror_mode": {
        "name": "ipython",
        "version": 3
      },
      "file_extension": ".py",
      "mimetype": "text/x-python",
      "name": "python",
      "nbconvert_exporter": "python",
      "pygments_lexer": "ipython3",
      "version": "3.10.16"
    }
  },
  "nbformat": 4,
  "nbformat_minor": 0
}
